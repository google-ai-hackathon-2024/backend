{
 "cells": [
  {
   "cell_type": "code",
   "execution_count": 1,
   "metadata": {},
   "outputs": [],
   "source": [
    "import gcp_bucket as bucket\n",
    "import recording as rec"
   ]
  },
  {
   "cell_type": "code",
   "execution_count": 2,
   "metadata": {},
   "outputs": [],
   "source": [
    "BUCKET_NAME = \"talking-dataset\"\n",
    "CREDENTIALS_FILE = \"../gcp-credential/key.json\"\n",
    "\n",
    "gcs_uri_audio = \"biz-meeting/biz-result-oup-brainstorming-meeting_16k.wav\"\n",
    "# gcs_uri_audio = \"gs://talking-dataset/monologue/TL_1203_prostitution_con_opening_JL_16k.wav\"\n",
    "\n",
    "audio, sr = bucket.get_audio_from_gcs(bucket_name=BUCKET_NAME, \n",
    "                                    blob_name=gcs_uri_audio, \n",
    "                                    credentials_file=CREDENTIALS_FILE)"
   ]
  },
  {
   "cell_type": "code",
   "execution_count": 3,
   "metadata": {},
   "outputs": [],
   "source": [
    "speaker_samples = [{'speaker': 1, \n",
    "                   'contents': \"then I like that an equal symbol is. So useful image one thing I go beyond what customers would normally expect if we only provide what other companies do in terms of level of service than that isn't enough so in that case this pops plus customers customers + customers + 1 the customer plus program very nice the customer plus\", \n",
    "                   'start_time': 227.2, 'end_time': 268.5}, \n",
    "                   {'speaker': 2, \n",
    "                    'contents': \"something short and instantly recognizable mission statements tend to be forgotten all that too long but I don't want to rule out any ideas at this stage what does I'd like us to do this morning is spend an hour or so brainstorming some ideas to see what we can come up with just a reminder this is a rainstorm so all ideas are welcome we're not touch with valuate the ideas yet we just want to get as many as possible to get to stuff it should begin with the word customer in the center and see what comes from that okay does anyone have any other fools maybe it's too early in the day\", \n",
    "                    'start_time': 22.2, 'end_time': 83.5}]"
   ]
  },
  {
   "cell_type": "code",
   "execution_count": 4,
   "metadata": {},
   "outputs": [],
   "source": [
    "audio_samples, sr = rec.get_audio_samples(audio, sr, speaker_samples)"
   ]
  },
  {
   "cell_type": "code",
   "execution_count": 5,
   "metadata": {},
   "outputs": [
    {
     "name": "stdout",
     "output_type": "stream",
     "text": [
      "0_sample\n",
      "converted to .wav and resampled to 16000 Hz.\n",
      "Saved as 0_sample_16k.wav\n",
      "1_sample\n",
      "converted to .wav and resampled to 16000 Hz.\n",
      "Saved as 1_sample_16k.wav\n"
     ]
    }
   ],
   "source": [
    "for i, aud in enumerate(audio_samples):\n",
    "    filename = f\"{i+1}_sample\"\n",
    "    rec.save_audio(filename, aud, sr)"
   ]
  },
  {
   "cell_type": "code",
   "execution_count": 7,
   "metadata": {},
   "outputs": [
    {
     "name": "stdout",
     "output_type": "stream",
     "text": [
      "split_tmp\n",
      "converted to .wav and resampled to 16000 Hz.\n",
      "Saved as split_tmp_16k.wav\n"
     ]
    },
    {
     "data": {
      "text/plain": [
       "'split_tmp_16k.wav'"
      ]
     },
     "execution_count": 7,
     "metadata": {},
     "output_type": "execute_result"
    }
   ],
   "source": [
    "import librosa\n",
    "\n",
    "start, end = librosa.time_to_samples([227.2, 227.2+10], sr=sr)\n",
    "\n",
    "# Get the current block\n",
    "audio_sample = audio[start : end]\n",
    "\n",
    "# Write 2-second segment to a separate file\n",
    "out_filename = f\"split_tmp\"\n",
    "\n",
    "rec.save_audio(out_filename, audio_sample, sr)"
   ]
  },
  {
   "cell_type": "code",
   "execution_count": 5,
   "metadata": {},
   "outputs": [
    {
     "name": "stdout",
     "output_type": "stream",
     "text": [
      "3635200 3795200\n"
     ]
    }
   ],
   "source": [
    "print(start, end)"
   ]
  },
  {
   "cell_type": "code",
   "execution_count": null,
   "metadata": {},
   "outputs": [],
   "source": []
  }
 ],
 "metadata": {
  "kernelspec": {
   "display_name": "Python 3",
   "language": "python",
   "name": "python3"
  },
  "language_info": {
   "codemirror_mode": {
    "name": "ipython",
    "version": 3
   },
   "file_extension": ".py",
   "mimetype": "text/x-python",
   "name": "python",
   "nbconvert_exporter": "python",
   "pygments_lexer": "ipython3",
   "version": "3.8.16"
  }
 },
 "nbformat": 4,
 "nbformat_minor": 2
}
