{
 "cells": [
  {
   "cell_type": "code",
   "execution_count": 100,
   "metadata": {},
   "outputs": [],
   "source": [
    "from google.auth.transport.requests import Request\n",
    "from google.oauth2.service_account import Credentials\n",
    "import vertexai"
   ]
  },
  {
   "cell_type": "code",
   "execution_count": 103,
   "metadata": {},
   "outputs": [],
   "source": [
    "PROJECT_ID = \"southern-field-419613\"  # @param {type:\"string\"}\n",
    "LOCATION = \"us-central1\"  # @param {type:\"string\"}\n",
    "CREDENTIALS_FILE = \"../_google/gcp-credential/key.json\""
   ]
  },
  {
   "cell_type": "code",
   "execution_count": 104,
   "metadata": {},
   "outputs": [
    {
     "name": "stdout",
     "output_type": "stream",
     "text": [
      "Initialize Google VertexAI!\n"
     ]
    }
   ],
   "source": [
    "print(\"Initialize Google VertexAI!\")\n",
    "\n",
    "credentials = Credentials.from_service_account_file(\n",
    "    CREDENTIALS_FILE,\n",
    "    scopes=['https://www.googleapis.com/auth/cloud-platform'])\n",
    "if credentials.expired:\n",
    "    credentials.refresh(Request())\n",
    "    \n",
    "# vertexai.init(project=PROJECT_ID, location=LOCATION, credentials = credentials)\n"
   ]
  },
  {
   "cell_type": "code",
   "execution_count": 105,
   "metadata": {},
   "outputs": [],
   "source": [
    "TEXT_MODEL = \"gemini-1.0-pro\"\n",
    "EMBEDDING_MODEL = \"textembedding-gecko@003\""
   ]
  },
  {
   "cell_type": "code",
   "execution_count": 106,
   "metadata": {},
   "outputs": [
    {
     "name": "stdout",
     "output_type": "stream",
     "text": [
      "LangChain version: 0.1.16\n",
      "Vertex AI SDK version: 1.48.0\n"
     ]
    }
   ],
   "source": [
    "# Utils\n",
    "# import os\n",
    "# import time\n",
    "# from typing import List\n",
    "\n",
    "# Langchain\n",
    "import langchain\n",
    "from langchain.chains import create_retrieval_chain\n",
    "from langchain.chains.combine_documents import create_stuff_documents_chain\n",
    "# from langchain.document_loaders import TextLoader, UnstructuredPDFLoader\n",
    "from langchain.prompts import PromptTemplate\n",
    "from langchain.text_splitter import CharacterTextSplitter\n",
    "from langchain.vectorstores.chroma import Chroma\n",
    "from langchain_google_vertexai import VertexAI, VertexAIEmbeddings\n",
    "from langchain.retrievers.self_query.base import SelfQueryRetriever\n",
    "from langchain.chains.query_constructor.base import AttributeInfo\n",
    "\n",
    "print(f\"LangChain version: {langchain.__version__}\")\n",
    "\n",
    "# Vertex AI\n",
    "from google.cloud import aiplatform\n",
    "\n",
    "print(f\"Vertex AI SDK version: {aiplatform.__version__}\")\n",
    "\n",
    "# HTML Widgets\n",
    "import ipywidgets as widgets\n",
    "from IPython.display import clear_output"
   ]
  },
  {
   "cell_type": "code",
   "execution_count": 107,
   "metadata": {},
   "outputs": [],
   "source": [
    "# Custom VertexAI Embeddings object\n",
    "EMBEDDING_NUM_BATCH = 5\n",
    "\n",
    "embeddings = VertexAIEmbeddings(\n",
    "    model_name=EMBEDDING_MODEL, batch_size=EMBEDDING_NUM_BATCH\n",
    ")"
   ]
  },
  {
   "cell_type": "code",
   "execution_count": 108,
   "metadata": {},
   "outputs": [],
   "source": [
    "#  Intialising the Vertex Language model with required parameters\n",
    "llm = VertexAI(\n",
    "    model=TEXT_MODEL,\n",
    "    max_output_tokens=2048,\n",
    "    temperature=0.2,\n",
    "    top_p=0.8,\n",
    "    top_k=40,\n",
    "    verbose=True,\n",
    ")"
   ]
  },
  {
   "cell_type": "code",
   "execution_count": 109,
   "metadata": {},
   "outputs": [],
   "source": [
    "from langchain_community.document_loaders import TextLoader\n",
    "from langchain.docstore.document import Document\n",
    "\n",
    "import requests\n",
    "\n",
    "loader = TextLoader(\"./summary.txt\")\n",
    "docs_from_txt = loader.load()"
   ]
  },
  {
   "cell_type": "code",
   "execution_count": 110,
   "metadata": {},
   "outputs": [],
   "source": [
    "from langchain_community.document_loaders import TextLoader\n",
    "from langchain.docstore.document import Document\n",
    "\n",
    "import requests\n",
    "\n",
    "# Define the URL\n",
    "url_summary = \"https://storage.googleapis.com/talking-dataset/5QW4F8/summary.txt\"\n",
    "url_transcript = \"https://storage.googleapis.com/talking-dataset/5QW4F8/transcript.txt\"\n",
    "# Get the content from the URL\n",
    "res_summary = requests.get(url_summary).text\n",
    "res_transcript = requests.get(url_transcript).text\n",
    "\n",
    "page_content = f\"\\\n",
    "    Summary:\\n\\\n",
    "    <summary>\\\n",
    "    {res_summary}\\n\\\n",
    "    </summary>\\n\\n\\n\\\n",
    "    Transcript:\\n\\\n",
    "    <transcript>\\\n",
    "    {res_transcript}\\n\\\n",
    "    </transcript>\"\n",
    "\n",
    "\n",
    "# Get the \n",
    "docs =  [\n",
    "    Document(page_content=page_content, metadata={\"convType\": \"debating\"}),\n",
    "           ]"
   ]
  },
  {
   "cell_type": "code",
   "execution_count": 111,
   "metadata": {},
   "outputs": [
    {
     "data": {
      "text/plain": [
       "{'convType': 'debating'}"
      ]
     },
     "execution_count": 111,
     "metadata": {},
     "output_type": "execute_result"
    }
   ],
   "source": [
    "docs[0].metadata"
   ]
  },
  {
   "cell_type": "code",
   "execution_count": 112,
   "metadata": {},
   "outputs": [],
   "source": [
    "text_splitter = CharacterTextSplitter(chunk_size=8192, chunk_overlap=128)\n",
    "doc = text_splitter.split_documents(docs)"
   ]
  },
  {
   "cell_type": "code",
   "execution_count": 113,
   "metadata": {},
   "outputs": [],
   "source": [
    "template = \"\"\"\n",
    "You are a helpful AI assistant to answer about the question \n",
    "based on the conversation information provided.\n",
    "conversation:\n",
    "<conversation>\n",
    "{context}\n",
    "</conversation>\n",
    "\n",
    "The question you got is like this.\n",
    "question:\n",
    "<question>\n",
    "{input}\n",
    "</question>\n",
    "\n",
    "Guidlines for other possible question\n",
    "* If user ask the similar question before, using the same answer but just rephrase it.\n",
    "* If you cannot find an answer ask the user to rephrase the question.\n",
    "* If you got a question about the meaning of the word, answer it with a general information you have.\n",
    "* If you got an answer from outside of the conversation above, mention with the clear notice that it is not coming from the given conversation.\n",
    "answer:\n",
    "\n",
    "\"\"\"\n",
    "prompt = PromptTemplate.from_template(template)"
   ]
  },
  {
   "cell_type": "code",
   "execution_count": 114,
   "metadata": {},
   "outputs": [],
   "source": [
    "vectorstore = Chroma.from_documents(doc, embeddings)\n",
    "\n",
    "document_content_description = \"Conversation summary and its original transcript\"\n",
    "metadata_field_info = [\n",
    "    AttributeInfo(\n",
    "        name=\"convType\",\n",
    "        description=\"Type of conversation\",\n",
    "        type=\"string\",\n",
    "    ),\n",
    "]\n",
    "retriever = SelfQueryRetriever.from_llm(\n",
    "    llm,\n",
    "    vectorstore,\n",
    "    document_content_description,\n",
    "    metadata_field_info\n",
    ")"
   ]
  },
  {
   "cell_type": "code",
   "execution_count": 115,
   "metadata": {},
   "outputs": [],
   "source": [
    "# Create the retrieval chain\n",
    "combine_docs_chain = create_stuff_documents_chain(llm, prompt)\n",
    "retrieval_chain = create_retrieval_chain(retriever, combine_docs_chain)"
   ]
  },
  {
   "cell_type": "code",
   "execution_count": 116,
   "metadata": {},
   "outputs": [
    {
     "name": "stdout",
     "output_type": "stream",
     "text": [
      "The topic of your conversation is job creation. President Obama and Governor Romney discussed their different approaches to creating jobs in the United States. President Obama argued that investing in education and training, developing new sources of energy, changing the tax code to benefit small businesses, rebuilding America with savings from winding down wars, and reducing the deficit in a balanced way would all help to create jobs. Governor Romney argued that achieving North American energy independence, opening up more trade, cracking down on China's unfair trade practices, ensuring Americans have the skills needed to succeed through improved education, balancing the budget, and championing small businesses would all help to create jobs.\n",
      "\n"
     ]
    }
   ],
   "source": [
    "# Invoke the retrieval chain\n",
    "response = retrieval_chain.invoke({\"input\": \"Tell me about the topic of my conversation.\"})\n",
    "print(response['answer'])"
   ]
  },
  {
   "cell_type": "code",
   "execution_count": 117,
   "metadata": {},
   "outputs": [
    {
     "name": "stdout",
     "output_type": "stream",
     "text": [
      "The tax mentioned in the conversation refers to the proposed changes to the tax code by both Barack Obama and Mitt Romney. \n",
      "\n",
      "* **Barack Obama:** Proposes changing the tax code to benefit small businesses and companies operating in the US. This suggests he may be considering lowering tax rates for these entities or providing them with tax breaks.\n",
      "* **Mitt Romney:** Does not explicitly mention changes to the tax code in this excerpt. However, he does criticize Obama's economic policies as being similar to his 2008 proposals, which included tax cuts for the wealthy. This suggests that Romney may favor tax cuts for higher-income earners.\n",
      "\n",
      "It's important to note that this conversation only provides a brief overview of each candidate's tax plans. To get a more comprehensive understanding of their proposals, it would be necessary to consult additional sources.\n",
      "\n"
     ]
    }
   ],
   "source": [
    "# Invoke the retrieval chain\n",
    "response = retrieval_chain.invoke({\"input\": \"What is the meaning of the tax?\"})\n",
    "print(response['answer'])"
   ]
  },
  {
   "cell_type": "code",
   "execution_count": 118,
   "metadata": {},
   "outputs": [
    {
     "name": "stdout",
     "output_type": "stream",
     "text": [
      "The word \"tax\" is mentioned several times in the conversation, but its meaning depends on the context. Here are the different ways it is used:\n",
      "\n",
      "**1. As a general term for government revenue:**\n",
      "\n",
      "* **Obama:** \"I think it's important for us to develop new sources of energy here in America that we **change our tax code** to make sure that we're helping small businesses and companies that are open here in the United States.\"\n",
      "* **Romney:** \"My plan has five basic parts... number four, get us to a **balanced budget**.\"\n",
      "\n",
      "In these cases, \"tax\" refers to the system of collecting money from individuals and businesses to fund government programs and services.\n",
      "\n",
      "**2. As a specific policy proposal:**\n",
      "\n",
      "* **Romney:** \"I'm going to do my plan has five basic parts... number one, get its energy independent North American Energy independent that creates about four million job number two, open up more trade for tickling in Latin America Crackdown in China if and when they cheat Number 3 make sure our people have the skills they need to succeed and the best schools in the world were far away from that now number four, get us to a balanced budget number five Champion small business it's small business to create the jobs in America and over the last four years small business people who decided that America may not be the place to open a new business because new business start-ups are down to a 30-year low I know what it takes to get small business going again. Hire people now I'm concerned that the path that were on his just been unsuccessful the present has a very similar to The View he had when he ran for years ago that a bigger government spending more taxi more anymore if you will trickle down government would work that's not the right answer for America I'll restore the Vitality that gets America working again thank you\"\n",
      "\n",
      "Here, Romney is referring to his plan to reduce taxes for businesses and individuals. He believes that this will stimulate economic growth and create jobs.\n",
      "\n",
      "**3. As a criticism of Obama's policies:**\n",
      "\n",
      "* **Romney:** \"I'm concerned that the path that were on his just been unsuccessful the present has a very similar to The View he had when he ran for years ago that a bigger government spending more taxi more anymore if you will trickle down government would work that's not the right answer for America I'll restore the Vitality that gets America working again thank you\"\n",
      "\n",
      "Romney is arguing that Obama's policies, which he describes as \"trickle-down government,\" have not been effective in creating jobs or stimulating the economy.\n",
      "\n",
      "It is important to note that the conversation does not provide a definitive answer to the question of what \"tax\" means. The meaning depends on the context in which the word is used.\n",
      "\n"
     ]
    }
   ],
   "source": [
    "# Invoke the retrieval chain\n",
    "response = retrieval_chain.invoke({\"input\": \"What is the meaning of tax in this conversation?\"})\n",
    "print(response['answer'])"
   ]
  },
  {
   "cell_type": "code",
   "execution_count": 119,
   "metadata": {},
   "outputs": [
    {
     "data": {
      "application/vnd.jupyter.widget-view+json": {
       "model_id": "aa0ea82e32744ee297ed1818921782eb",
       "version_major": 2,
       "version_minor": 0
      },
      "text/plain": [
       "Text(value='', description='Question:', layout=Layout(height='50px', width='80%'))"
      ]
     },
     "metadata": {},
     "output_type": "display_data"
    },
    {
     "data": {
      "application/vnd.jupyter.widget-view+json": {
       "model_id": "a73f322bdc1c441ca7bdc35bdd690fe5",
       "version_major": 2,
       "version_minor": 0
      },
      "text/plain": [
       "Button(description='Ask Me!', style=ButtonStyle())"
      ]
     },
     "metadata": {},
     "output_type": "display_data"
    },
    {
     "data": {
      "application/vnd.jupyter.widget-view+json": {
       "model_id": "99e16339f75b443db6e1445239a5f11e",
       "version_major": 2,
       "version_minor": 0
      },
      "text/plain": [
       "Button(description='More details', style=ButtonStyle())"
      ]
     },
     "metadata": {},
     "output_type": "display_data"
    },
    {
     "data": {
      "application/vnd.jupyter.widget-view+json": {
       "model_id": "08d5b645b7b94977bca488516c02bc7b",
       "version_major": 2,
       "version_minor": 0
      },
      "text/plain": [
       "Output()"
      ]
     },
     "metadata": {},
     "output_type": "display_data"
    }
   ],
   "source": [
    "button = widgets.Button(description=\"Ask Me!\")\n",
    "output = widgets.Output()\n",
    "button_stp = widgets.Button(description=\"More details\")\n",
    "output = widgets.Output()\n",
    "text = widgets.Text(\n",
    "    description=\"Question:\", layout=widgets.Layout(width=\"80%\", height=\"50px\")\n",
    ")\n",
    "display(text, button, button_stp, output)\n",
    "\n",
    "\n",
    "@output.capture()\n",
    "def on_button_clicked(b):\n",
    "    clear_output()\n",
    "    question = text.value\n",
    "\n",
    "    result = retrieval_chain.invoke({\"input\": question})\n",
    "    # source_documents = list({doc.metadata[\"source\"] for doc in result[\"context\"]})\n",
    "\n",
    "    print(\"\\nAnswer-\\n\\n\", result[\"answer\"])\n",
    "    # print(\"\\nSource-\", \"\\n\".join(source_documents))\n",
    "    print(\"\\n\")\n",
    "\n",
    "\n",
    "@output.capture()\n",
    "def on_stp_clicked(b):\n",
    "    clear_output()\n",
    "    question = text.value\n",
    "    query = question + \"Give detailed information as much as possible. \"\n",
    "    result = retrieval_chain.invoke({\"input\": query})\n",
    "    # source_documents = list({doc.metadata[\"source\"] for doc in result[\"context\"]})\n",
    "\n",
    "    print(\"\\nAnswer\\n\\n\", result[\"answer\"])\n",
    "    # print(\"\\nSource-\", \"\\n\".join(source_documents))\n",
    "    print(\"\\n\")\n",
    "\n",
    "\n",
    "button.on_click(on_button_clicked)\n",
    "button_stp.on_click(on_stp_clicked)"
   ]
  },
  {
   "cell_type": "code",
   "execution_count": null,
   "metadata": {},
   "outputs": [],
   "source": []
  }
 ],
 "metadata": {
  "kernelspec": {
   "display_name": "Python 3",
   "language": "python",
   "name": "python3"
  },
  "language_info": {
   "codemirror_mode": {
    "name": "ipython",
    "version": 3
   },
   "file_extension": ".py",
   "mimetype": "text/x-python",
   "name": "python",
   "nbconvert_exporter": "python",
   "pygments_lexer": "ipython3",
   "version": "3.8.16"
  }
 },
 "nbformat": 4,
 "nbformat_minor": 2
}
