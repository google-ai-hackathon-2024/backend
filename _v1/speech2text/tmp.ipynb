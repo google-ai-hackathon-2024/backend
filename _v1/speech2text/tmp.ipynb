{
 "cells": [
  {
   "cell_type": "code",
   "execution_count": 1,
   "metadata": {},
   "outputs": [],
   "source": [
    "import json\n",
    "import os\n",
    "import gcp_speech2text as sp2txt\n",
    "import transcript as trs\n",
    "import constants\n",
    "from google.cloud import speech\n",
    "\n",
    "CREDENTIALS_FILE = \"../gcp-credential/key.json\"\n",
    "\n",
    "# biz-meeting, debating, interview, monologue\n",
    "style = 'biz-meeting'\n",
    "gcs_uri_wav_lst = constants.gcs_uri_wav[style]\n",
    "speaker_info_lst = constants.speaker[style]\n",
    "\n",
    "# For Test Run\n",
    "idx = 0"
   ]
  },
  {
   "cell_type": "code",
   "execution_count": 2,
   "metadata": {},
   "outputs": [],
   "source": [
    "credentials = CREDENTIALS_FILE\n",
    "gcs_uri = gcs_uri_wav_lst[idx]\n",
    "speakers = speaker_info_lst[idx]['min_max']"
   ]
  },
  {
   "cell_type": "code",
   "execution_count": 3,
   "metadata": {},
   "outputs": [
    {
     "name": "stdout",
     "output_type": "stream",
     "text": [
      "Google Cloud Storage: gs://talking-dataset/biz-meeting/biz-result-oup-brainstorming-meeting_16k.wav\n",
      "Waiting for Speech-to-Text to complete...\n",
      "Speak diarization - min:2, max:6\n",
      "Completed!\n",
      "\n"
     ]
    }
   ],
   "source": [
    "script_conf_pairs, word_infos = sp2txt.speech_to_text(gcs_uri, \n",
    "                                                            CREDENTIALS_FILE, \n",
    "                                                            speaker_info_lst[idx]['min_max'])"
   ]
  },
  {
   "cell_type": "code",
   "execution_count": 4,
   "metadata": {},
   "outputs": [
    {
     "name": "stdout",
     "output_type": "stream",
     "text": [
      "Generated Transcript! 25\n",
      "\n"
     ]
    },
    {
     "data": {
      "text/plain": [
       "[{'speaker': 2,\n",
       "  'contents': \"improving our performance with customers he's all about changing the company culture so we need a message or slogan between even need an image that everyone sees every day on that desk to remind them of the go like a mission statement\",\n",
       "  'start_time': 0.3,\n",
       "  'end_time': 19.2},\n",
       " {'speaker': 1, 'contents': 'sort of', 'start_time': 19.2, 'end_time': 20.8},\n",
       " {'speaker': 2,\n",
       "  'contents': \"something short and instantly recognizable mission statements tend to be forgotten all that too long but I don't want to rule out any ideas at this stage what does I'd like us to do this morning is spend an hour or so brainstorming some ideas to see what we can come up with just a reminder this is a rainstorm so all ideas are welcome we're not touch with valuate the ideas yet we just want to get as many as possible to get to stuff it should begin with the word customer in the center and see what comes from that okay\",\n",
       "  'start_time': 22.2,\n",
       "  'end_time': 66.3},\n",
       " {'speaker': 1,\n",
       "  'contents': 'does anyone have any other fools',\n",
       "  'start_time': 79.3,\n",
       "  'end_time': 81.0},\n",
       " {'speaker': 2,\n",
       "  'contents': \"maybe it's too early in the day I was\",\n",
       "  'start_time': 82.0,\n",
       "  'end_time': 86.2},\n",
       " {'speaker': 1,\n",
       "  'contents': \"thinking of good customer service or maybe you're looking for something more catchy\",\n",
       "  'start_time': 86.2,\n",
       "  'end_time': 91.9},\n",
       " {'speaker': 2,\n",
       "  'contents': \"don't feel you have to come up with a slogan or anything let's just get some ideas in front of us Customer Care\",\n",
       "  'start_time': 91.9,\n",
       "  'end_time': 99.9},\n",
       " {'speaker': 1,\n",
       "  'contents': \"customer service sorry wake up at 1 already how about doing things Becca customers doing things back to what do you mean oh I didn't know that we were only thinking about using the word customer I was trying to think of what it is that we're actually trying to do but I think Marcus is looking for something more about the customer\",\n",
       "  'start_time': 99.9,\n",
       "  'end_time': 128.7},\n",
       " {'speaker': 2,\n",
       "  'contents': \"know I'm not looking for anything definite at this stage I really want this just to be a brainstorm so anything is fine we don't need any discussion at this stage about what some good or bad let's just focus on generating ideas so what exactly did you say\",\n",
       "  'start_time': 128.7,\n",
       "  'end_time': 149.6},\n",
       " {'speaker': 1,\n",
       "  'contents': 'doing things better',\n",
       "  'start_time': 155.4,\n",
       "  'end_time': 157.7},\n",
       " {'speaker': 2,\n",
       "  'contents': 'doing things better good anyone',\n",
       "  'start_time': 160.7,\n",
       "  'end_time': 163.0},\n",
       " {'speaker': 1,\n",
       "  'contents': 'else Festivus more helpful',\n",
       "  'start_time': 163.0,\n",
       "  'end_time': 170.7},\n",
       " {'speaker': 2,\n",
       "  'contents': 'getting back together good getting some nice ideas now',\n",
       "  'start_time': 175.2,\n",
       "  'end_time': 184.9},\n",
       " {'speaker': 1,\n",
       "  'contents': 'do you want something that tell stuff what they need to do or what do you want something that reminds them of the goal Marcus',\n",
       "  'start_time': 186.3,\n",
       "  'end_time': 194.5},\n",
       " {'speaker': 2,\n",
       "  'contents': \"don't say something David you being very quiet so far and he comments sorry yes I was just thinking that we need to think of where we are now and where we have to get to can you elaborate I mean at the moment we don't even offer what some of our competitors can offer in terms of customer service we have to equal then I like that\",\n",
       "  'start_time': 199.9,\n",
       "  'end_time': 229.2},\n",
       " {'speaker': 1,\n",
       "  'contents': \"an equal symbol is. So useful image one thing I go beyond what customers would normally expect if we only provide what other companies do in terms of level of service than that isn't enough so in that case this pops\",\n",
       "  'start_time': 229.2,\n",
       "  'end_time': 249.3},\n",
       " {'speaker': 2,\n",
       "  'contents': 'plus customers customers + customers + 1',\n",
       "  'start_time': 253.5,\n",
       "  'end_time': 259.2},\n",
       " {'speaker': 1,\n",
       "  'contents': 'the customer plus program very nice',\n",
       "  'start_time': 261.2,\n",
       "  'end_time': 266.1},\n",
       " {'speaker': 2,\n",
       "  'contents': 'the customer plus program',\n",
       "  'start_time': 267.2,\n",
       "  'end_time': 269.2},\n",
       " {'speaker': 1,\n",
       "  'contents': 'what do you think I like it',\n",
       "  'start_time': 271.1,\n",
       "  'end_time': 274.2},\n",
       " {'speaker': 2,\n",
       "  'contents': \"and it would be a good name if you wanted to offer some kind of loyalty program will rewards for coming back to us and I agree but let's keep a few more ideas coming we can come back to this one later not so far we've been thinking about this very much from our own perspective it would be useful to think about view you said doing things better explore that's a bit more from the customer's perspective if you were the customer what would you want us to do better speaking as a customer I'd say I want my calls answered more quickly that they want me to explain my problem not that I'm some sort of interruption to the day let me know some of these words we have the Masa listen\",\n",
       "  'start_time': 276.7,\n",
       "  'end_time': 349.8},\n",
       " {'speaker': 1,\n",
       "  'contents': 'want to help',\n",
       "  'start_time': 353.5,\n",
       "  'end_time': 355.7},\n",
       " {'speaker': 2,\n",
       "  'contents': 'it makes me think that the customer is our business',\n",
       "  'start_time': 360.8,\n",
       "  'end_time': 364.4},\n",
       " {'speaker': 1,\n",
       "  'contents': 'Bostitch',\n",
       "  'start_time': 367.0,\n",
       "  'end_time': 367.8},\n",
       " {'speaker': 2,\n",
       "  'contents': \"well let's see where these Takis well let's see where these Takis\",\n",
       "  'start_time': 369.0,\n",
       "  'end_time': 370.8}]"
      ]
     },
     "execution_count": 4,
     "metadata": {},
     "output_type": "execute_result"
    }
   ],
   "source": [
    "transcript = sp2txt.generate_transcript_with_tag(word_infos)\n",
    "transcript"
   ]
  },
  {
   "cell_type": "code",
   "execution_count": 5,
   "metadata": {},
   "outputs": [
    {
     "name": "stdout",
     "output_type": "stream",
     "text": [
      "Google Cloud Storage: gs://talking-dataset/biz-meeting/biz-result-oup-brainstorming-meeting_16k.wav\n",
      "Waiting for Speech-to-Text to complete...\n",
      "Speak diarization - min:2, max:6\n",
      "Completed!\n",
      "\n"
     ]
    }
   ],
   "source": [
    "# ---------------------------------------------------------------------\n",
    "client = speech.SpeechClient.from_service_account_file(credentials)\n",
    "\n",
    "# ---------------------------------------------------------------------\n",
    "audio = speech.RecognitionAudio(uri=gcs_uri)\n",
    "\n",
    "print(f\"Google Cloud Storage: {gcs_uri}\\nWaiting for Speech-to-Text to complete...\")\n",
    "print(f\"Speak diarization - min:{speakers[0]}, max:{speakers[1]}\")\n",
    "is_monologue = False\n",
    "if speakers == (1, 1):\n",
    "    speakers = (2, 2)\n",
    "    is_monologue = True\n",
    "    print(\"It is Monologue\")\n",
    "diarization_config = speech.SpeakerDiarizationConfig(\n",
    "    enable_speaker_diarization=True,\n",
    "    min_speaker_count=speakers[0],\n",
    "    max_speaker_count=speakers[1],\n",
    ")\n",
    "config = speech.RecognitionConfig(\n",
    "    encoding=speech.RecognitionConfig.AudioEncoding.LINEAR16, # For .wav with 16000 sampling rate\n",
    "    sample_rate_hertz=16000, \n",
    "    language_code=\"en-US\",\n",
    "    diarization_config=diarization_config,\n",
    ")\n",
    "operation = client.long_running_recognize(config=config, audio=audio)\n",
    "\n",
    "# ---------------------------------------------------------------------\n",
    "response = operation.result(timeout=300)\n",
    "\n",
    "# ---------------------------------------------------------------------\n",
    "# Each result is for a consecutive portion of the audio. Iterate through\n",
    "# them to get the transcripts for the entire audio file.\n",
    "script_conf_pairs = []\n",
    "for result in response.results:\n",
    "    # The first alternative is the most likely one for this portion.\n",
    "    script_conf_pairs.append({\"Transcript\": result.alternatives[0].transcript,\n",
    "                                \"Confidence\": result.alternatives[0].confidence})\n",
    "\n",
    "# The transcript within each result is separate and sequential per result.\n",
    "# However, the words list within an alternative includes all the words\n",
    "# from all the results thus far. Thus, to get all the words with speaker\n",
    "# tags, you only have to take the words list from the last result:\n",
    "result = response.results[-1]\n",
    "infos = result.alternatives[0].words\n",
    "# print(result.alternatives[0])\n",
    "word_infos = []\n",
    "for inf in infos:\n",
    "    # print(inf)\n",
    "    item = {\"word\":inf.word,\n",
    "            \"speaker_tag\":inf.speaker_tag,\n",
    "            \"start_time\": inf.start_time.total_seconds(),\n",
    "            \"end_time\": inf.end_time.total_seconds()}\n",
    "    if is_monologue: item['speaker_tag'] = 1\n",
    "    word_infos.append(item)    \n",
    "\n",
    "print(\"Completed!\")\n",
    "print()\n"
   ]
  },
  {
   "cell_type": "code",
   "execution_count": 7,
   "metadata": {},
   "outputs": [
    {
     "name": "stdout",
     "output_type": "stream",
     "text": [
      "Generated Transcript! 23\n",
      "\n"
     ]
    }
   ],
   "source": [
    "transcript = sp2txt.generate_transcript_with_tag(word_infos)\n"
   ]
  },
  {
   "cell_type": "code",
   "execution_count": 8,
   "metadata": {},
   "outputs": [
    {
     "data": {
      "text/plain": [
       "[{'speaker': 2,\n",
       "  'contents': \"improving our performance with customers he's all about changing the company culture so we need a message or slogan between even need an image that everyone sees every day on that desk to remind them of the go like a mission statement\",\n",
       "  'start_time': 0.3,\n",
       "  'end_time': 19.2},\n",
       " {'speaker': 1, 'contents': 'sort of', 'start_time': 19.2, 'end_time': 20.8},\n",
       " {'speaker': 2,\n",
       "  'contents': \"something short and instantly recognizable mission statements tend to be forgotten all that too long but I don't want to rule out any ideas at this stage what does I'd like us to do this morning is spend an hour or so brainstorming some ideas to see what we can come up with just a reminder this is a rainstorm so all ideas are welcome we're not touch with valuate the ideas yet we just want to get as many as possible to get to stuff it should begin with the word customer in the center and see what comes from that okay\",\n",
       "  'start_time': 22.2,\n",
       "  'end_time': 66.3},\n",
       " {'speaker': 1,\n",
       "  'contents': 'does anyone have any other fools',\n",
       "  'start_time': 79.3,\n",
       "  'end_time': 81.0},\n",
       " {'speaker': 2,\n",
       "  'contents': \"maybe it's too early in the day I was\",\n",
       "  'start_time': 82.0,\n",
       "  'end_time': 86.2},\n",
       " {'speaker': 1,\n",
       "  'contents': \"thinking of good customer service or maybe you're looking for something more catchy\",\n",
       "  'start_time': 86.2,\n",
       "  'end_time': 91.9},\n",
       " {'speaker': 2,\n",
       "  'contents': \"don't feel you have to come up with a slogan or anything let's just get some ideas in front of us Customer Care\",\n",
       "  'start_time': 91.9,\n",
       "  'end_time': 99.9},\n",
       " {'speaker': 1,\n",
       "  'contents': \"customer service sorry wake up at 1 already how about doing things Becca customers doing things back to what do you mean oh I didn't know that we were only thinking about using the word customer I was trying to think of what it is that we're actually trying to do but I think Marcus is looking for something more about the customer\",\n",
       "  'start_time': 99.9,\n",
       "  'end_time': 128.7},\n",
       " {'speaker': 2,\n",
       "  'contents': \"know I'm not looking for anything definite at this stage I really want this just to be a brainstorm so anything is fine we don't need any discussion at this stage about what some good or bad let's just focus on generating ideas so what exactly did you say\",\n",
       "  'start_time': 128.7,\n",
       "  'end_time': 149.6},\n",
       " {'speaker': 1,\n",
       "  'contents': 'doing things better',\n",
       "  'start_time': 155.4,\n",
       "  'end_time': 157.7},\n",
       " {'speaker': 2,\n",
       "  'contents': 'doing things better good anyone',\n",
       "  'start_time': 160.7,\n",
       "  'end_time': 163.0},\n",
       " {'speaker': 1,\n",
       "  'contents': 'else Festivus more helpful',\n",
       "  'start_time': 163.0,\n",
       "  'end_time': 170.7},\n",
       " {'speaker': 2,\n",
       "  'contents': 'getting back together good getting some nice ideas now',\n",
       "  'start_time': 175.2,\n",
       "  'end_time': 184.9},\n",
       " {'speaker': 1,\n",
       "  'contents': 'do you want something that tell stuff what they need to do or what do you want something that reminds them of the goal Marcus',\n",
       "  'start_time': 186.3,\n",
       "  'end_time': 194.5},\n",
       " {'speaker': 2,\n",
       "  'contents': \"don't say something David you being very quiet so far and he comments sorry yes I was just thinking that we need to think of where we are now and where we have to get to can you elaborate I mean at the moment we don't even offer what some of our competitors can offer in terms of customer service we have to equal then I like that\",\n",
       "  'start_time': 199.9,\n",
       "  'end_time': 229.2},\n",
       " {'speaker': 1,\n",
       "  'contents': \"an equal symbol is. So useful image one thing I go beyond what customers would normally expect if we only provide what other companies do in terms of level of service than that isn't enough so in that case this pops\",\n",
       "  'start_time': 229.2,\n",
       "  'end_time': 249.3},\n",
       " {'speaker': 2,\n",
       "  'contents': 'plus customers customers + customers + 1',\n",
       "  'start_time': 253.5,\n",
       "  'end_time': 259.2},\n",
       " {'speaker': 1,\n",
       "  'contents': 'the customer plus program very nice',\n",
       "  'start_time': 261.2,\n",
       "  'end_time': 266.1},\n",
       " {'speaker': 2,\n",
       "  'contents': 'the customer plus program',\n",
       "  'start_time': 267.2,\n",
       "  'end_time': 269.2},\n",
       " {'speaker': 1,\n",
       "  'contents': 'what do you think I like it',\n",
       "  'start_time': 271.1,\n",
       "  'end_time': 274.2},\n",
       " {'speaker': 2,\n",
       "  'contents': \"and it would be a good name if you wanted to offer some kind of loyalty program will rewards for coming back to us and I agree but let's keep a few more ideas coming we can come back to this one later not so far we've been thinking about this very much from our own perspective it would be useful to think about view you said doing things better explore that's a bit more from the customer's perspective if you were the customer what would you want us to do better speaking as a customer I'd say I want my calls answered more quickly that they want me to explain my problem not that I'm some sort of interruption to the day let me know some of these words we have the Masa listen want to help it makes me think that the customer is our business\",\n",
       "  'start_time': 276.7,\n",
       "  'end_time': 364.4},\n",
       " {'speaker': 1,\n",
       "  'contents': 'Bostitch',\n",
       "  'start_time': 367.0,\n",
       "  'end_time': 367.8},\n",
       " {'speaker': 2,\n",
       "  'contents': \"well let's see where these Takis well let's see where these Takis\",\n",
       "  'start_time': 369.0,\n",
       "  'end_time': 370.8}]"
      ]
     },
     "execution_count": 8,
     "metadata": {},
     "output_type": "execute_result"
    }
   ],
   "source": [
    "transcript"
   ]
  },
  {
   "cell_type": "code",
   "execution_count": 9,
   "metadata": {},
   "outputs": [
    {
     "name": "stdout",
     "output_type": "stream",
     "text": [
      "Extracted audio samples by each speaker tag!\n",
      "1 : customer service sorry wake up at 1 already how ab... (28.80s)\n",
      "2 : and it would be a good name if you wanted to offer... (87.70s)\n",
      "\n"
     ]
    }
   ],
   "source": [
    "\n",
    "# NOTE: 'speaker' is going to be set by User Input through Front-end\n",
    "# speaker_sample is used for getting this User Input\n",
    "if speaker_info_lst[idx]['min_max'] != (1,1):\n",
    "    speaker_sample = trs.extract_speaker_sample(transcript)\n",
    "speaker = speaker_info_lst[idx]['speakers'] "
   ]
  },
  {
   "cell_type": "code",
   "execution_count": 10,
   "metadata": {},
   "outputs": [
    {
     "name": "stdout",
     "output_type": "stream",
     "text": [
      "Mapped speaker's name into the tag!\n",
      "\n",
      "{1: 'Marcus', 2: 'Paul'}\n",
      "Converted transcript json into txt! 3561\n",
      "\n"
     ]
    }
   ],
   "source": [
    "transcript_txt = trs.convert_transcript_json2txt(transcript, speaker)"
   ]
  },
  {
   "cell_type": "markdown",
   "metadata": {},
   "source": [
    "# Generate Transctipt.json"
   ]
  },
  {
   "cell_type": "code",
   "execution_count": 2,
   "metadata": {},
   "outputs": [
    {
     "name": "stdout",
     "output_type": "stream",
     "text": [
      "Google Cloud Storage: gs://talking-dataset/biz-meeting/biz-result-oup-brainstorming-meeting_16k.wav\n",
      "Waiting for Speech-to-Text to complete...\n",
      "Speak diarization - min:2, max:6\n",
      "Completed!\n",
      "Generated Transcript! 43\n"
     ]
    }
   ],
   "source": [
    "\n",
    "# -------------------------------------------------------------------\n",
    "script_conf_pairs, word_infos = sp2txt.speech_to_text(gcs_uri_wav, \n",
    "                                                            CREDENTIALS_FILE, \n",
    "                                                            speaker_info_lst[idx]['min_max'])\n",
    "\n",
    "transcript = sp2txt.generate_transcript_with_tag(word_infos)\n"
   ]
  },
  {
   "cell_type": "code",
   "execution_count": 3,
   "metadata": {},
   "outputs": [
    {
     "name": "stdout",
     "output_type": "stream",
     "text": [
      "Saved contents into the file! \n",
      "./word_infos.json\n"
     ]
    }
   ],
   "source": [
    "word_infos_path = os.path.join('./', 'word_infos.json')\n",
    "trs.save_result(word_infos_path, word_infos)"
   ]
  },
  {
   "cell_type": "code",
   "execution_count": 4,
   "metadata": {},
   "outputs": [
    {
     "name": "stdout",
     "output_type": "stream",
     "text": [
      "Saved contents into the file! \n",
      "./transcript.json\n"
     ]
    }
   ],
   "source": [
    "transcript_json_path = os.path.join('./', 'transcript.json')\n",
    "trs.save_result(transcript_json_path, transcript)"
   ]
  },
  {
   "cell_type": "markdown",
   "metadata": {},
   "source": [
    "# Extract Audio Samples"
   ]
  },
  {
   "cell_type": "code",
   "execution_count": 10,
   "metadata": {},
   "outputs": [],
   "source": [
    "import numpy as np"
   ]
  },
  {
   "cell_type": "code",
   "execution_count": 11,
   "metadata": {},
   "outputs": [],
   "source": [
    "with open('./transcript.json','r') as f :\n",
    "    transcript = json.load(f)"
   ]
  },
  {
   "cell_type": "code",
   "execution_count": 12,
   "metadata": {},
   "outputs": [
    {
     "data": {
      "text/plain": [
       "[{'speaker': 1,\n",
       "  'contents': 'improving our performance with customers is all about changing the company culture so we need a message or a slogan perhaps we even need an image that everyone sees every day on their desks to remind them of the goal like',\n",
       "  'start_time': 0.4,\n",
       "  'end_time': 18.2},\n",
       " {'speaker': 2,\n",
       "  'contents': 'a mission statement',\n",
       "  'start_time': 18.2,\n",
       "  'end_time': 19.2},\n",
       " {'speaker': 1,\n",
       "  'contents': \"well thought of recognizable mission statements tend to be forgotten or they're too long but I don't want to rule out any idea that this stage so what does I'd like us to do this morning is spend an hour or so brainstorming some ideas to see what we can come up with and just a reminder this is a brainstorm so all ideas are welcome we're not here to evaluate the ideas yet we just want to get as many as possible to get us started perhaps we should begin with\",\n",
       "  'start_time': 20.2,\n",
       "  'end_time': 60.0},\n",
       " {'speaker': 3,\n",
       "  'contents': 'the word customer in the center and see what comes from that',\n",
       "  'start_time': 60.0,\n",
       "  'end_time': 64.6},\n",
       " {'speaker': 1,\n",
       "  'contents': \"okay does anyone have any other thoughts maybe it's too early in the day\",\n",
       "  'start_time': 65.7,\n",
       "  'end_time': 83.7},\n",
       " {'speaker': 2, 'contents': 'yes Anna', 'start_time': 84.8, 'end_time': 85.7},\n",
       " {'speaker': 4,\n",
       "  'contents': \"I was thinking of good customer service or maybe you're looking for something more catchy\",\n",
       "  'start_time': 85.7,\n",
       "  'end_time': 91.8},\n",
       " {'speaker': 1,\n",
       "  'contents': \"no no that's fine don't feel you have to come up with a slogan or anything let's just get some ideas in front of\",\n",
       "  'start_time': 91.8,\n",
       "  'end_time': 98.1},\n",
       " {'speaker': 2,\n",
       "  'contents': \"us customer care customer help customer service sorry we've got that 1 already\",\n",
       "  'start_time': 98.1,\n",
       "  'end_time': 107.2},\n",
       " {'speaker': 4,\n",
       "  'contents': 'how about doing things better',\n",
       "  'start_time': 108.6,\n",
       "  'end_time': 110.8},\n",
       " {'speaker': 5,\n",
       "  'contents': 'customers doing what do you mean',\n",
       "  'start_time': 112.2,\n",
       "  'end_time': 115.7},\n",
       " {'speaker': 4,\n",
       "  'contents': \"oh I didn't know we were only thinking about using the word customer I was trying to think of what it\",\n",
       "  'start_time': 116.7,\n",
       "  'end_time': 122.7},\n",
       " {'speaker': 5,\n",
       "  'contents': \"is that we're actually trying to do but I think Marcus is looking for something more about the customer\",\n",
       "  'start_time': 122.7,\n",
       "  'end_time': 128.7},\n",
       " {'speaker': 1,\n",
       "  'contents': \"know I'm not looking for anything definite at this stage I really want this just to be a brainstorm so anything is fine we don't need any discussion at this stage about what's good or bad let's just focus on generating ideas so Sally what exactly did you\",\n",
       "  'start_time': 128.7,\n",
       "  'end_time': 149.3},\n",
       " {'speaker': 2, 'contents': 'say', 'start_time': 149.3, 'end_time': 149.5},\n",
       " {'speaker': 4,\n",
       "  'contents': 'doing things better',\n",
       "  'start_time': 150.3,\n",
       "  'end_time': 151.3},\n",
       " {'speaker': 2,\n",
       "  'contents': 'doing things better',\n",
       "  'start_time': 155.5,\n",
       "  'end_time': 157.5},\n",
       " {'speaker': 1,\n",
       "  'contents': 'doing things better good anyone else',\n",
       "  'start_time': 160.8,\n",
       "  'end_time': 163.1},\n",
       " {'speaker': 5,\n",
       "  'contents': 'in that case what about more effectively better service more helpful',\n",
       "  'start_time': 163.1,\n",
       "  'end_time': 170.6},\n",
       " {'speaker': 2,\n",
       "  'contents': 'getting there together this is good getting some',\n",
       "  'start_time': 175.5,\n",
       "  'end_time': 183.8},\n",
       " {'speaker': 1,\n",
       "  'contents': 'nice ideas now',\n",
       "  'start_time': 183.8,\n",
       "  'end_time': 184.7},\n",
       " {'speaker': 5,\n",
       "  'contents': 'staff what they need to do or or do you want something that reminds them of the goal Marcos',\n",
       "  'start_time': 188.9,\n",
       "  'end_time': 194.3},\n",
       " {'speaker': 1,\n",
       "  'contents': \"I want something that does both I think do you want to say something David you've been very quiet so far any comments\",\n",
       "  'start_time': 195.8,\n",
       "  'end_time': 204.2},\n",
       " {'speaker': 3,\n",
       "  'contents': \"sorry yes I was just thinking that perhaps we need to think of where we are now and where we have to get to um can you elaborate I mean at the moment we don't even offer what some of our competitors can offer in terms of customer service we have to equal them\",\n",
       "  'start_time': 205.1,\n",
       "  'end_time': 227.6},\n",
       " {'speaker': 2,\n",
       "  'contents': 'I like that and equal symbol',\n",
       "  'start_time': 227.6,\n",
       "  'end_time': 231.0},\n",
       " {'speaker': 4,\n",
       "  'contents': \"is that a useful image 1 thing I've told my staff is that we have to go beyond what customers would normally expect if we only provide what other companies do in terms of level of service then that isn't enough so more than equals then in that case\",\n",
       "  'start_time': 231.7,\n",
       "  'end_time': 248.3},\n",
       " {'speaker': 1,\n",
       "  'contents': 'this perhaps',\n",
       "  'start_time': 248.3,\n",
       "  'end_time': 249.6},\n",
       " {'speaker': 3,\n",
       "  'contents': 'plus customers customers plus customers plus 1',\n",
       "  'start_time': 253.7,\n",
       "  'end_time': 259.0},\n",
       " {'speaker': 4,\n",
       "  'contents': 'the customer plus program',\n",
       "  'start_time': 261.3,\n",
       "  'end_time': 262.7},\n",
       " {'speaker': 3,\n",
       "  'contents': 'very nice the customer plus program',\n",
       "  'start_time': 265.1,\n",
       "  'end_time': 268.8},\n",
       " {'speaker': 1,\n",
       "  'contents': 'what we think yes',\n",
       "  'start_time': 271.2,\n",
       "  'end_time': 273.1},\n",
       " {'speaker': 5,\n",
       "  'contents': 'I like it',\n",
       "  'start_time': 273.1,\n",
       "  'end_time': 274.1},\n",
       " {'speaker': 3,\n",
       "  'contents': 'and it would be a good name if you wanted to offer some kind of loyalty program or rewards for coming back to us',\n",
       "  'start_time': 276.8,\n",
       "  'end_time': 285.9},\n",
       " {'speaker': 1,\n",
       "  'contents': \"yeah I agree but let's keep a few more ideas coming we can come back to this 1 later uh so far we've been thinking about this very much from our own perspective perhaps it would be useful to think about it more from the customer's point of view now Sally you said doing things better let's explore that a bit more from the customers perspective if you were the customer what would you want us to do better\",\n",
       "  'start_time': 285.9,\n",
       "  'end_time': 318.7},\n",
       " {'speaker': 4,\n",
       "  'contents': \"speaking as a customer I'd say I want my calls answered more quickly\",\n",
       "  'start_time': 319.6,\n",
       "  'end_time': 323.4},\n",
       " {'speaker': 5,\n",
       "  'contents': 'I I want to feel that I matter',\n",
       "  'start_time': 323.4,\n",
       "  'end_time': 325.8},\n",
       " {'speaker': 4,\n",
       "  'contents': 'yes I want to be listened to',\n",
       "  'start_time': 325.8,\n",
       "  'end_time': 327.3},\n",
       " {'speaker': 3,\n",
       "  'contents': \"that's it I want to feel that they want me to explain my problem not that I'm\",\n",
       "  'start_time': 327.3,\n",
       "  'end_time': 333.9},\n",
       " {'speaker': 1,\n",
       "  'contents': 'some sort of interruption to their day oh this is great let let me just note down some of these words we had uh',\n",
       "  'start_time': 333.9,\n",
       "  'end_time': 342.4},\n",
       " {'speaker': 2,\n",
       "  'contents': 'uh matter uh listen want to help it makes me think that the customer',\n",
       "  'start_time': 343.6,\n",
       "  'end_time': 362.8},\n",
       " {'speaker': 1,\n",
       "  'contents': 'is our business',\n",
       "  'start_time': 362.8,\n",
       "  'end_time': 364.2},\n",
       " {'speaker': 3,\n",
       "  'contents': 'fantastic',\n",
       "  'start_time': 367.2,\n",
       "  'end_time': 367.6},\n",
       " {'speaker': 1,\n",
       "  'contents': \"well let's see where these takers\",\n",
       "  'start_time': 369.1,\n",
       "  'end_time': 370.8}]"
      ]
     },
     "execution_count": 12,
     "metadata": {},
     "output_type": "execute_result"
    }
   ],
   "source": [
    "transcript"
   ]
  },
  {
   "cell_type": "code",
   "execution_count": 23,
   "metadata": {},
   "outputs": [
    {
     "name": "stdout",
     "output_type": "stream",
     "text": [
      "[{'speaker': 1}, {'speaker': 2}, {'speaker': 3}, {'speaker': 4}, {'speaker': 5}]\n"
     ]
    }
   ],
   "source": []
  },
  {
   "cell_type": "code",
   "execution_count": 24,
   "metadata": {},
   "outputs": [
    {
     "name": "stdout",
     "output_type": "stream",
     "text": [
      "0 initialized! 0.4, 18.2\n",
      "1 initialized! 18.2, 19.2\n",
      "0 updated!! 17.8s -> 39.8s\n",
      "2 initialized! 60.0, 64.6\n",
      "3 initialized! 85.7, 91.8\n",
      "1 updated!! 1.0s -> 9.100000000000009s\n",
      "4 initialized! 112.2, 115.7\n",
      "4 updated!! 3.5s -> 5.999999999999986s\n",
      "4 updated!! 5.999999999999986s -> 7.5s\n",
      "2 updated!! 4.599999999999994s -> 22.5s\n",
      "3 updated!! 6.099999999999994s -> 16.600000000000023s\n",
      "1 updated!! 9.100000000000009s -> 19.19999999999999s\n"
     ]
    }
   ],
   "source": [
    "speaker = np.unique([tr['speaker'] for tr in transcript])\n",
    "audio_sample_info = [{'speaker':tag} for tag in speaker]\n",
    "# print(audio_sample_info)\n",
    "\n",
    "for tr in transcript:\n",
    "    tag = tr['speaker'] - 1\n",
    "    if 'contents' in audio_sample_info[tag]:\n",
    "        old = audio_sample_info[tag]['end_time'] - audio_sample_info[tag]['start_time']\n",
    "        new = tr['end_time'] - tr['start_time']\n",
    "        if new > old:        \n",
    "            audio_sample_info[tag]['contents'] = tr['contents']\n",
    "            audio_sample_info[tag]['start_time'] = tr['start_time']\n",
    "            audio_sample_info[tag]['end_time'] = tr['end_time']\n",
    "            print(f\"{tag} updated!! {old}s -> {new}s\")\n",
    "\n",
    "    else:\n",
    "        audio_sample_info[tag]['contents'] = tr['contents']\n",
    "        audio_sample_info[tag]['start_time'] = tr['start_time']\n",
    "        audio_sample_info[tag]['end_time'] = tr['end_time']\n",
    "        print(f\"{tag} initialized! {tr['start_time']}, {tr['end_time']}\")\n",
    "\n",
    "audio_sample_info"
   ]
  },
  {
   "cell_type": "code",
   "execution_count": 21,
   "metadata": {},
   "outputs": [
    {
     "data": {
      "text/plain": [
       "[{'speaker': 1,\n",
       "  'contents': \"well thought of recognizable mission statements tend to be forgotten or they're too long but I don't want to rule out any idea that this stage so what does I'd like us to do this morning is spend an hour or so brainstorming some ideas to see what we can come up with and just a reminder this is a brainstorm so all ideas are welcome we're not here to evaluate the ideas yet we just want to get as many as possible to get us started perhaps we should begin with\",\n",
       "  'start_time': 20.2,\n",
       "  'end_time': 60.0},\n",
       " {'speaker': 2,\n",
       "  'contents': 'uh matter uh listen want to help it makes me think that the customer',\n",
       "  'start_time': 343.6,\n",
       "  'end_time': 362.8},\n",
       " {'speaker': 3,\n",
       "  'contents': \"sorry yes I was just thinking that perhaps we need to think of where we are now and where we have to get to um can you elaborate I mean at the moment we don't even offer what some of our competitors can offer in terms of customer service we have to equal them\",\n",
       "  'start_time': 205.1,\n",
       "  'end_time': 227.6},\n",
       " {'speaker': 4,\n",
       "  'contents': \"is that a useful image 1 thing I've told my staff is that we have to go beyond what customers would normally expect if we only provide what other companies do in terms of level of service then that isn't enough so more than equals then in that case\",\n",
       "  'start_time': 231.7,\n",
       "  'end_time': 248.3},\n",
       " {'speaker': 5,\n",
       "  'contents': 'in that case what about more effectively better service more helpful',\n",
       "  'start_time': 163.1,\n",
       "  'end_time': 170.6}]"
      ]
     },
     "execution_count": 21,
     "metadata": {},
     "output_type": "execute_result"
    }
   ],
   "source": [
    "audio_sample_info"
   ]
  },
  {
   "cell_type": "code",
   "execution_count": null,
   "metadata": {},
   "outputs": [],
   "source": [
    "\n",
    "speaker = speaker_info_lst[idx]['speakers'] # NOTE: Replace with User Input from Front-end later.\n",
    "transcript_txt = trs.convert_transcript_json2txt(transcript, speaker)\n",
    "\n",
    "print()"
   ]
  }
 ],
 "metadata": {
  "kernelspec": {
   "display_name": "Python 3",
   "language": "python",
   "name": "python3"
  },
  "language_info": {
   "codemirror_mode": {
    "name": "ipython",
    "version": 3
   },
   "file_extension": ".py",
   "mimetype": "text/x-python",
   "name": "python",
   "nbconvert_exporter": "python",
   "pygments_lexer": "ipython3",
   "version": "3.8.16"
  }
 },
 "nbformat": 4,
 "nbformat_minor": 2
}
