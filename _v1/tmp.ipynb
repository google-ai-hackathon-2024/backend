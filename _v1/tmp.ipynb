{
 "cells": [
  {
   "cell_type": "code",
   "execution_count": 14,
   "metadata": {},
   "outputs": [],
   "source": [
    "import os\n",
    "import re\n",
    "import numpy as np"
   ]
  },
  {
   "cell_type": "code",
   "execution_count": 15,
   "metadata": {},
   "outputs": [],
   "source": [
    "def get_txt_files(folder_path):\n",
    "    txt_files = []\n",
    "    for root, dirs, files in os.walk(folder_path):\n",
    "        for file in files:\n",
    "            _, ext = os.path.splitext(file)\n",
    "            if ext.lower() in [\".txt\"]:\n",
    "                if _ != 'source':\n",
    "                    txt_files.append(os.path.join(root, file))\n",
    "    \n",
    "    print(f\"TXT file detected! {len(txt_files)}\")\n",
    "    return txt_files"
   ]
  },
  {
   "cell_type": "code",
   "execution_count": 25,
   "metadata": {},
   "outputs": [
    {
     "name": "stdout",
     "output_type": "stream",
     "text": [
      "TXT file detected! 4\n",
      "dataset/biz-meeting/biz-result-oup-participating-in-meetings-2.txt\n",
      "4 ['Anna' 'David' 'Maria' 'Paul']\n",
      "\n",
      "dataset/biz-meeting/biz-result-oup-participating-in-meetings-1.txt\n",
      "4 ['Anna' 'David' 'Maja' 'Marcus']\n",
      "\n",
      "dataset/biz-meeting/biz-result-oup-team-meeting.txt\n",
      "3 ['Karina' 'Maria' 'Paul']\n",
      "\n",
      "dataset/biz-meeting/biz-result-oup-brainstorming-meeting.txt\n",
      "6 ['Anna' 'David' 'Maja' 'Marcus' 'Paul' 'Sally']\n",
      "\n"
     ]
    },
    {
     "data": {
      "text/plain": [
       "\"\\nTXT file detected! 4\\ndataset/biz-meeting/biz-result-oup-participating-in-meetings-2.txt\\n4 ['Anna' 'David' 'Maria' 'Paul']\\n\\ndataset/biz-meeting/biz-result-oup-participating-in-meetings-1.txt\\n4 ['Anna' 'David' 'Maja' 'Marcus']\\n\\ndataset/biz-meeting/biz-result-oup-team-meeting.txt\\n3 ['Karina' 'Maria' 'Paul']\\n\\ndataset/biz-meeting/biz-result-oup-brainstorming-meeting.txt\\n6 ['Anna' 'David' 'Maja' 'Marcus' 'Paul' 'Sally']\\n\\n\""
      ]
     },
     "execution_count": 25,
     "metadata": {},
     "output_type": "execute_result"
    }
   ],
   "source": [
    "txt_files = get_txt_files(\"dataset/biz-meeting\")\n",
    "\n",
    "for txt in txt_files:\n",
    "    print(txt)\n",
    "    with open(txt, 'r') as file:\n",
    "        content = file.read()\n",
    "        # Find all occurrences of the regex pattern ':\\\\n'\n",
    "        matches = re.findall(r'\\s*(\\w+)\\s*:\\s*\\n', content)\n",
    "\n",
    "    speakers = np.unique(np.array(matches))\n",
    "    print(len(speakers), speakers)\n",
    "    print()"
   ]
  },
  {
   "cell_type": "code",
   "execution_count": 26,
   "metadata": {},
   "outputs": [
    {
     "name": "stdout",
     "output_type": "stream",
     "text": [
      "TXT file detected! 6\n",
      "dataset/debating/captain-america-civil-war.txt\n",
      "7 ['Maximoff' 'Rhodes' 'Rogers' 'Romanoff' 'Stark' 'Vision' 'Wilson']\n",
      "\n",
      "dataset/debating/2012-first-debate-biden-ryan.txt\n",
      "3 ['BIDEN' 'RADDATZ' 'RYAN']\n",
      "\n",
      "dataset/debating/lalaland.txt\n",
      "2 ['MIA' 'SEBASTIAN']\n",
      "\n",
      "dataset/debating/marriage-story.txt\n",
      "2 ['CHARLIE' 'NICOLE']\n",
      "\n",
      "dataset/debating/2012-first-debate-obama-romney.txt\n",
      "3 ['LEHRER' 'OBAMA' 'ROMNEY']\n",
      "\n",
      "dataset/debating/midnight-mass-great.txt\n",
      "2 ['HASSAN' 'KEANE']\n",
      "\n"
     ]
    },
    {
     "data": {
      "text/plain": [
       "\"\\nTXT file detected! 6\\ndataset/debating/captain-america-civil-war.txt\\n7 ['Maximoff' 'Rhodes' 'Rogers' 'Romanoff' 'Stark' 'Vision' 'Wilson']\\n\\ndataset/debating/2012-first-debate-biden-ryan.txt\\n3 ['BIDEN' 'RADDATZ' 'RYAN']\\n\\ndataset/debating/lalaland.txt\\n2 ['MIA' 'SEBASTIAN']\\n\\ndataset/debating/marriage-story.txt\\n1 ['CHARLIE']\\n\\ndataset/debating/2012-first-debate-obama-romney.txt\\n3 ['LEHRER' 'OBAMA' 'ROMNEY']\\n\\ndataset/debating/midnight-mass-great.txt\\n1 ['HASSAN']\\n\\n\""
      ]
     },
     "execution_count": 26,
     "metadata": {},
     "output_type": "execute_result"
    }
   ],
   "source": [
    "txt_files = get_txt_files(\"dataset/debating\")\n",
    "\n",
    "for txt in txt_files:\n",
    "    print(txt)\n",
    "    with open(txt, 'r') as file:\n",
    "        content = file.read()\n",
    "        # Find all occurrences of the regex pattern ':\\\\n'\n",
    "        matches = re.findall(r'\\s*(\\w+)\\s*:\\s*\\n', content)\n",
    "\n",
    "    speakers = np.unique(np.array(matches))\n",
    "    print(len(speakers), speakers)\n",
    "    print()\n"
   ]
  },
  {
   "cell_type": "code",
   "execution_count": 27,
   "metadata": {},
   "outputs": [
    {
     "name": "stdout",
     "output_type": "stream",
     "text": [
      "TXT file detected! 5\n",
      "dataset/interview/Robin_Steinberg.txt\n",
      "3 ['Chris' 'Robin' 'only']\n",
      "\n",
      "dataset/interview/Dalia_Mogahed.txt\n",
      "2 ['Chris' 'Dalia']\n",
      "\n",
      "dataset/interview/Sam_Harris.txt\n",
      "2 ['Chris' 'Sam']\n",
      "\n",
      "dataset/interview/Elizabeth_Gilbert.txt\n",
      "5 ['Chris' 'Elizabeth' 'creativity' 'ideas' 'question']\n",
      "\n",
      "dataset/interview/Ken_Robinson.txt\n",
      "2 ['Chris' 'Ken']\n",
      "\n"
     ]
    },
    {
     "data": {
      "text/plain": [
       "\"\\nTXT file detected! 5\\ndataset/interview/Robin_Steinberg.txt\\n3 ['Chris' 'Robin' 'only']\\n\\ndataset/interview/Dalia_Mogahed.txt\\n0 []\\n\\ndataset/interview/Sam_Harris.txt\\n0 []\\n\\ndataset/interview/Elizabeth_Gilbert.txt\\n3 ['creativity' 'ideas' 'question']\\n\\ndataset/interview/Ken_Robinson.txt\\n2 ['Chris' 'Ken']\\n\\n\""
      ]
     },
     "execution_count": 27,
     "metadata": {},
     "output_type": "execute_result"
    }
   ],
   "source": [
    "txt_files = get_txt_files(\"dataset/interview\")\n",
    "\n",
    "for txt in txt_files:\n",
    "    print(txt)\n",
    "    with open(txt, 'r') as file:\n",
    "        content = file.read()\n",
    "        # Find all occurrences of the regex pattern ':\\\\n'\n",
    "        matches = re.findall(r'\\s*(\\w+)\\s*:\\s*\\n', content)\n",
    "\n",
    "    speakers = np.unique(np.array(matches))\n",
    "    print(len(speakers), speakers)\n",
    "    print()\n"
   ]
  },
  {
   "cell_type": "code",
   "execution_count": 28,
   "metadata": {},
   "outputs": [
    {
     "name": "stdout",
     "output_type": "stream",
     "text": [
      "TXT file detected! 5\n",
      "dataset/monologue/JL_1163_cocaleaf_con_opening_TL.trs.txt\n",
      "1 ['John']\n",
      "\n",
      "dataset/monologue/DJ_1203_prostitution_con_opening_TL.trs.txt\n",
      "1 ['Daniel']\n",
      "\n",
      "dataset/monologue/TL_1203_prostitution_con_opening_JL.trs.txt\n",
      "1 ['Tyler']\n",
      "\n",
      "dataset/monologue/DJ_221_ban-gambling_con_opening_YBA.trs.txt\n",
      "1 ['Daniel']\n",
      "\n",
      "dataset/monologue/EH_2108_surrogacy_con_opening_JL.trs.txt\n",
      "1 ['Elliot']\n",
      "\n"
     ]
    },
    {
     "data": {
      "text/plain": [
       "\"\\nTXT file detected! 5\\ndataset/monologue/JL_1163_cocaleaf_con_opening_TL.trs.txt\\n1 ['John']\\n\\ndataset/monologue/DJ_1203_prostitution_con_opening_TL.trs.txt\\n1 ['Daniel']\\n\\ndataset/monologue/TL_1203_prostitution_con_opening_JL.trs.txt\\n1 ['Tyler']\\n\\ndataset/monologue/DJ_221_ban-gambling_con_opening_YBA.trs.txt\\n1 ['Daniel']\\n\\ndataset/monologue/EH_2108_surrogacy_con_opening_JL.trs.txt\\n1 ['Elliot']\\n\\n\""
      ]
     },
     "execution_count": 28,
     "metadata": {},
     "output_type": "execute_result"
    }
   ],
   "source": [
    "txt_files = get_txt_files(\"dataset/monologue\")\n",
    "\n",
    "for txt in txt_files:\n",
    "    print(txt)\n",
    "    with open(txt, 'r') as file:\n",
    "        content = file.read()\n",
    "        # Find all occurrences of the regex pattern ':\\\\n'\n",
    "        matches = re.findall(r'\\s*(\\w+)\\s*:\\s*\\n', content)\n",
    "\n",
    "    speakers = np.unique(np.array(matches))\n",
    "    print(len(speakers), speakers)\n",
    "    print()\n"
   ]
  },
  {
   "cell_type": "code",
   "execution_count": null,
   "metadata": {},
   "outputs": [],
   "source": []
  }
 ],
 "metadata": {
  "kernelspec": {
   "display_name": "Python 3",
   "language": "python",
   "name": "python3"
  },
  "language_info": {
   "codemirror_mode": {
    "name": "ipython",
    "version": 3
   },
   "file_extension": ".py",
   "mimetype": "text/x-python",
   "name": "python",
   "nbconvert_exporter": "python",
   "pygments_lexer": "ipython3",
   "version": "3.8.16"
  }
 },
 "nbformat": 4,
 "nbformat_minor": 2
}
